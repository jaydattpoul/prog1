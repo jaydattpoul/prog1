{
  "nbformat": 4,
  "nbformat_minor": 0,
  "metadata": {
    "colab": {
      "provenance": []
    },
    "kernelspec": {
      "name": "python3",
      "display_name": "Python 3"
    },
    "language_info": {
      "name": "python"
    }
  },
  "cells": [
    {
      "cell_type": "markdown",
      "source": [
        "Q1.what is html?\n",
        "->"
      ],
      "metadata": {
        "id": "BlkGk5H0ArIs"
      }
    },
    {
      "cell_type": "code",
      "source": [
        "<!DOCTYPE html>\n",
        "<html>\n",
        "<head>\n",
        "    <title>My First HTML Page</title>\n",
        "</head>\n",
        "<body>\n",
        "\n",
        "    <h1>Welcome to My Website</h1>\n",
        "    <p>This is a simple HTML program with a button.</p>\n",
        "\n",
        "    <button onclick=\"showMessage()\">Click Me</button>\n",
        "\n",
        "    <script>\n",
        "        function showMessage() {\n",
        "            alert(\"Hello! You clicked the button.\");\n",
        "        }\n",
        "    </script>\n",
        "\n",
        "</body>\n",
        "</html>\n"
      ],
      "metadata": {
        "id": "ez5YHScDA59r"
      },
      "execution_count": null,
      "outputs": []
    }
  ]
}